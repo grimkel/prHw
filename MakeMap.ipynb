{
 "cells": [
  {
   "cell_type": "code",
   "execution_count": 78,
   "metadata": {},
   "outputs": [],
   "source": [
    "import numpy as np\n",
    "import matplotlib.pyplot as plt\n",
    " \n",
    "def score2grade(score):\n",
    "    if score < 4:\n",
    "        return 2\n",
    "    if score < 6:\n",
    "        return 3\n",
    "    if score < 8:\n",
    "        return 4\n",
    "    return 5"
   ]
  },
  {
   "cell_type": "code",
   "execution_count": 79,
   "metadata": {},
   "outputs": [],
   "source": [
    "colorMap = np.zeros(shape=(100,100,3))\n",
    "grade2color = {2:(255, 0, 0), 3:(0,0,255), 4:(255,255,0), 5:(0,255,0)}"
   ]
  },
  {
   "cell_type": "code",
   "execution_count": 80,
   "metadata": {},
   "outputs": [],
   "source": [
    "countGrade = [0] * 6\n",
    "for testScore in range(100):\n",
    "    for homeworkScore in range(100):\n",
    "        score = testScore * 0.06 + homeworkScore * 0.04\n",
    "        grade = score2grade(score)\n",
    "        countGrade[grade]+=1\n",
    "        colorMap[testScore][homeworkScore] = grade2color[grade]"
   ]
  },
  {
   "cell_type": "code",
   "execution_count": 81,
   "metadata": {},
   "outputs": [
    {
     "name": "stderr",
     "output_type": "stream",
     "text": [
      "Clipping input data to the valid range for imshow with RGB data ([0..1] for floats or [0..255] for integers).\n"
     ]
    },
    {
     "name": "stdout",
     "output_type": "stream",
     "text": [
      "-----------------------------------\n",
      "|2:34.01%|3:33.34%|4:24.65%|5:8.0%|"
     ]
    },
    {
     "data": {
      "image/png": "[encoded data removed]",
      "text/plain": [
       "<Figure size 432x288 with 1 Axes>"
      ]
     },
     "metadata": {
      "needs_background": "light"
     },
     "output_type": "display_data"
    }
   ],
   "source": [
    "plt.imshow(gradeColor)\n",
    "print(\"-----------------------------------\\n|\", end='')\n",
    "for grade in range(2,6):\n",
    "    print(\"{0}:{1}%|\".format(grade, countGrade[grade]/100), end='')"
   ]
  },
  {
   "cell_type": "code",
   "execution_count": null,
   "metadata": {},
   "outputs": [],
   "source": []
  },
  {
   "cell_type": "code",
   "execution_count": null,
   "metadata": {},
   "outputs": [],
   "source": []
  }
 ],
 "metadata": {
  "kernelspec": {
   "display_name": "sat",
   "language": "python",
   "name": "sat"
  },
  "language_info": {
   "codemirror_mode": {
    "name": "ipython",
    "version": 3
   },
   "file_extension": ".py",
   "mimetype": "text/x-python",
   "name": "python",
   "nbconvert_exporter": "python",
   "pygments_lexer": "ipython3",
   "version": "3.7.10"
  }
 },
 "nbformat": 4,
 "nbformat_minor": 4
}
